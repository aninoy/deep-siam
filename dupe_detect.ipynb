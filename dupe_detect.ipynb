{
  "nbformat": 4,
  "nbformat_minor": 0,
  "metadata": {
    "colab": {
      "name": "Dupe Detection by Siamese Network(Final).ipynb",
      "version": "0.3.2",
      "provenance": [],
      "collapsed_sections": [
        "Kl11xO1E2osu",
        "pZCTEz312vsW",
        "7jC2q5xz26Rc",
        "jtnrdnLL29QX",
        "nPboHuEUCBTn",
        "Q5h7QU2IKSH9",
        "xz6hlQOOC_0b"
      ],
      "toc_visible": true
    },
    "kernelspec": {
      "name": "python3",
      "display_name": "Python 3"
    },
    "accelerator": "GPU"
  },
  "cells": [
    {
      "cell_type": "markdown",
      "metadata": {
        "id": "LWD54k7u2gpN",
        "colab_type": "text"
      },
      "source": [
        "## Data load and cleanup"
      ]
    },
    {
      "cell_type": "code",
      "metadata": {
        "id": "rFo8iurB3zQK",
        "colab_type": "code",
        "outputId": "21904f1e-c25b-4aa2-e5a5-3b36fe49bc4f",
        "colab": {
          "base_uri": "https://localhost:8080/",
          "height": 122
        }
      },
      "source": [
        "def drive_mount():\n",
        "  from google.colab import drive\n",
        "  drive.mount('/content/drive')\n",
        "  \n",
        "drive_mount()"
      ],
      "execution_count": 0,
      "outputs": [
        {
          "output_type": "stream",
          "text": [
            "Go to this URL in a browser: https://accounts.google.com/o/oauth2/auth?client_id=947318989803-6bn6qk8qdgf4n4g3pfee6491hc0brc4i.apps.googleusercontent.com&redirect_uri=urn%3Aietf%3Awg%3Aoauth%3A2.0%3Aoob&scope=email%20https%3A%2F%2Fwww.googleapis.com%2Fauth%2Fdocs.test%20https%3A%2F%2Fwww.googleapis.com%2Fauth%2Fdrive%20https%3A%2F%2Fwww.googleapis.com%2Fauth%2Fdrive.photos.readonly%20https%3A%2F%2Fwww.googleapis.com%2Fauth%2Fpeopleapi.readonly&response_type=code\n",
            "\n",
            "Enter your authorization code:\n",
            "··········\n",
            "Mounted at /content/drive\n"
          ],
          "name": "stdout"
        }
      ]
    },
    {
      "cell_type": "code",
      "metadata": {
        "id": "89jYW8HHeA-B",
        "colab_type": "code",
        "colab": {}
      },
      "source": [
        "from google.colab import files\n",
        "import json\n",
        "import os\n",
        "import pandas as pd\n",
        "import numpy as np\n",
        "from itertools import combinations\n",
        "\n",
        "data_path = '/content/drive/My Drive/dupe_detection'\n",
        "\n"
      ],
      "execution_count": 0,
      "outputs": []
    },
    {
      "cell_type": "code",
      "metadata": {
        "id": "i6SZz6nLb2eD",
        "colab_type": "code",
        "colab": {}
      },
      "source": [
        "entity_type = \"movie\" #@param {type:\"string\"}"
      ],
      "execution_count": 0,
      "outputs": []
    },
    {
      "cell_type": "code",
      "metadata": {
        "id": "7UkY-36GKy8p",
        "colab_type": "code",
        "outputId": "73157ff8-06c6-42d7-8db9-2da4358a4ec9",
        "colab": {
          "base_uri": "https://localhost:8080/",
          "height": 204
        }
      },
      "source": [
        "def load_training_dataset(entity_type):\n",
        "  with open(os.path.join(data_path, 'train.json'), 'r') as f:\n",
        "    train_df = pd.read_json(f)\n",
        "    \n",
        "    train_df = train_df[train_df.entity_type==entity_type]\n",
        "    train_df.drop(columns=['entity_type', 'episode_number', 'problem_space', 'season_number', 'series_description', 'series_entity_id', 'series_name', 'series_premiere'], inplace=True)\n",
        "    train_df.drop(columns=['ver_id', 'id', 'source_id'], inplace=True)\n",
        "  \n",
        "  return train_df\n",
        "\n",
        "\n",
        "train_df = load_training_dataset(entity_type)\n",
        "train_df.head()"
      ],
      "execution_count": 0,
      "outputs": [
        {
          "output_type": "execute_result",
          "data": {
            "text/html": [
              "<div>\n",
              "<style scoped>\n",
              "    .dataframe tbody tr th:only-of-type {\n",
              "        vertical-align: middle;\n",
              "    }\n",
              "\n",
              "    .dataframe tbody tr th {\n",
              "        vertical-align: top;\n",
              "    }\n",
              "\n",
              "    .dataframe thead th {\n",
              "        text-align: right;\n",
              "    }\n",
              "</style>\n",
              "<table border=\"1\" class=\"dataframe\">\n",
              "  <thead>\n",
              "    <tr style=\"text-align: right;\">\n",
              "      <th></th>\n",
              "      <th>description</th>\n",
              "      <th>entity_id</th>\n",
              "      <th>genres</th>\n",
              "      <th>name</th>\n",
              "      <th>premiere</th>\n",
              "    </tr>\n",
              "  </thead>\n",
              "  <tbody>\n",
              "    <tr>\n",
              "      <th>0</th>\n",
              "      <td>Fox is an edge-of-the-seat suspense thriller t...</td>\n",
              "      <td>fb12ea15f0a94392998e6ba8f0828593</td>\n",
              "      <td>Drama,International,Mystery</td>\n",
              "      <td>Fox</td>\n",
              "      <td>2009-09-04T00:00:00.000Z</td>\n",
              "    </tr>\n",
              "    <tr>\n",
              "      <th>3</th>\n",
              "      <td>In Washington, D.C., in the year 2054, murder ...</td>\n",
              "      <td>ed090fa63254441ab3d4dd83c9ddc891</td>\n",
              "      <td>Action,Adventure,Science Fiction</td>\n",
              "      <td>Minority Report</td>\n",
              "      <td>2002-06-21T00:00:00.000Z</td>\n",
              "    </tr>\n",
              "    <tr>\n",
              "      <th>4</th>\n",
              "      <td>Andrew McMahon has a momentous year: He releas...</td>\n",
              "      <td>b2725ec69dc54f5e9a687c84487cf30a</td>\n",
              "      <td>Documentaries</td>\n",
              "      <td>Dear Jack</td>\n",
              "      <td>2009-01-01T00:00:00.000Z</td>\n",
              "    </tr>\n",
              "    <tr>\n",
              "      <th>6</th>\n",
              "      <td>From The Producer of THE STRANGERS and the wri...</td>\n",
              "      <td>93c2491ae356408d8d04a63907b42fee</td>\n",
              "      <td>Horror,Supernatural</td>\n",
              "      <td>At The Devil's Door</td>\n",
              "      <td>2014-08-08T00:00:00.000Z</td>\n",
              "    </tr>\n",
              "    <tr>\n",
              "      <th>10</th>\n",
              "      <td>Filmmaker Tommy Davis follows four Mexican mig...</td>\n",
              "      <td>fecd9360da1d4370b91481eec4621d18</td>\n",
              "      <td>Documentaries</td>\n",
              "      <td>Mojados: Through the Night</td>\n",
              "      <td>2004-03-12T00:00:00.000Z</td>\n",
              "    </tr>\n",
              "  </tbody>\n",
              "</table>\n",
              "</div>"
            ],
            "text/plain": [
              "                                          description  ...                  premiere\n",
              "0   Fox is an edge-of-the-seat suspense thriller t...  ...  2009-09-04T00:00:00.000Z\n",
              "3   In Washington, D.C., in the year 2054, murder ...  ...  2002-06-21T00:00:00.000Z\n",
              "4   Andrew McMahon has a momentous year: He releas...  ...  2009-01-01T00:00:00.000Z\n",
              "6   From The Producer of THE STRANGERS and the wri...  ...  2014-08-08T00:00:00.000Z\n",
              "10  Filmmaker Tommy Davis follows four Mexican mig...  ...  2004-03-12T00:00:00.000Z\n",
              "\n",
              "[5 rows x 5 columns]"
            ]
          },
          "metadata": {
            "tags": []
          },
          "execution_count": 4
        }
      ]
    },
    {
      "cell_type": "markdown",
      "metadata": {
        "id": "Kl11xO1E2osu",
        "colab_type": "text"
      },
      "source": [
        "## genres"
      ]
    },
    {
      "cell_type": "code",
      "metadata": {
        "id": "OJcMl4alDTkT",
        "colab_type": "code",
        "outputId": "d32bc3a4-5327-4b72-d130-ec35bc8a1794",
        "colab": {
          "base_uri": "https://localhost:8080/",
          "height": 119
        }
      },
      "source": [
        "genre_dict = {'next': 1}\n",
        "\n",
        "\n",
        "def genre_array_to_dict(row):\n",
        "  genre_mapping = []\n",
        "  for g in row:\n",
        "    next_genre = genre_dict['next']\n",
        "    g_num = genre_dict.setdefault(g, next_genre)\n",
        "    if g_num == next_genre:\n",
        "      genre_dict['next'] += 1\n",
        "    genre_mapping.append(g_num)\n",
        "  return genre_mapping\n",
        "  \n",
        "genres_df = train_df.genres.str.split(',').apply(lambda x: genre_array_to_dict(x))\n",
        "genres_df.head()\n"
      ],
      "execution_count": 0,
      "outputs": [
        {
          "output_type": "execute_result",
          "data": {
            "text/plain": [
              "0     [1, 2, 3]\n",
              "3     [4, 5, 6]\n",
              "4           [7]\n",
              "6        [8, 9]\n",
              "10          [7]\n",
              "Name: genres, dtype: object"
            ]
          },
          "metadata": {
            "tags": []
          },
          "execution_count": 5
        }
      ]
    },
    {
      "cell_type": "markdown",
      "metadata": {
        "id": "pZCTEz312vsW",
        "colab_type": "text"
      },
      "source": [
        "## descriptions"
      ]
    },
    {
      "cell_type": "code",
      "metadata": {
        "id": "ggLyvcYILBL4",
        "colab_type": "code",
        "outputId": "718a7949-25cd-41d4-d9f0-552814a81cc8",
        "colab": {
          "base_uri": "https://localhost:8080/"
        }
      },
      "source": [
        "from gensim.parsing.preprocessing import preprocess_string, strip_multiple_whitespaces, strip_non_alphanum, strip_punctuation, remove_stopwords\n",
        "CUSTOM_FILTERS = [lambda x: x.lower(), strip_multiple_whitespaces, strip_non_alphanum, strip_punctuation, remove_stopwords]\n",
        "\n",
        "def preprocess(row):\n",
        "  if not row:\n",
        "    return ''\n",
        "  return ' '.join(preprocess_string(row, CUSTOM_FILTERS))\n",
        "\n",
        "description_string_df = train_df.description.apply(lambda x: preprocess(x))\n",
        "description_string_df.head()\n"
      ],
      "execution_count": 0,
      "outputs": [
        {
          "output_type": "execute_result",
          "data": {
            "text/plain": [
              "0     fox edge seat suspense thriller moves high spe...\n",
              "3            washington d c year 2054 murder eliminated\n",
              "4     andrew mcmahon momentous year releases album b...\n",
              "6     producer strangers writer director pact comes ...\n",
              "10    filmmaker tommy davis follows mexican migrants...\n",
              "Name: description, dtype: object"
            ]
          },
          "metadata": {
            "tags": []
          },
          "execution_count": 6
        }
      ]
    },
    {
      "cell_type": "code",
      "metadata": {
        "id": "qLWOJHC0PFGU",
        "colab_type": "code",
        "outputId": "e2f1b07c-b43a-46e5-f40c-5c359e7c6d17",
        "colab": {
          "base_uri": "https://localhost:8080/"
        }
      },
      "source": [
        "\n",
        "from tensor2tensor.data_generators import text_encoder\n",
        "\n",
        "description_df = description_string_df.apply(lambda x: text_encoder.ByteTextEncoder().encode(x))\n",
        "description_df.head()"
      ],
      "execution_count": 0,
      "outputs": [
        {
          "output_type": "execute_result",
          "data": {
            "text/plain": [
              "0     [104, 113, 122, 34, 103, 102, 105, 103, 34, 11...\n",
              "3     [121, 99, 117, 106, 107, 112, 105, 118, 113, 1...\n",
              "4     [99, 112, 102, 116, 103, 121, 34, 111, 101, 11...\n",
              "6     [114, 116, 113, 102, 119, 101, 103, 116, 34, 1...\n",
              "10    [104, 107, 110, 111, 111, 99, 109, 103, 116, 3...\n",
              "Name: description, dtype: object"
            ]
          },
          "metadata": {
            "tags": []
          },
          "execution_count": 7
        }
      ]
    },
    {
      "cell_type": "markdown",
      "metadata": {
        "id": "7jC2q5xz26Rc",
        "colab_type": "text"
      },
      "source": [
        "## titles"
      ]
    },
    {
      "cell_type": "code",
      "metadata": {
        "id": "NBQ4n0e-2aor",
        "colab_type": "code",
        "outputId": "53f8f41c-a65a-4e5d-d916-11fe07182729",
        "colab": {
          "base_uri": "https://localhost:8080/"
        }
      },
      "source": [
        "name_df = train_df.name.apply(lambda x: text_encoder.ByteTextEncoder().encode(x))\n",
        "name_df.head()"
      ],
      "execution_count": 0,
      "outputs": [
        {
          "output_type": "execute_result",
          "data": {
            "text/plain": [
              "0                                        [72, 113, 122]\n",
              "3     [79, 107, 112, 113, 116, 107, 118, 123, 34, 84...\n",
              "4              [70, 103, 99, 116, 34, 76, 99, 101, 109]\n",
              "6     [67, 118, 34, 86, 106, 103, 34, 70, 103, 120, ...\n",
              "10    [79, 113, 108, 99, 102, 113, 117, 60, 34, 86, ...\n",
              "Name: name, dtype: object"
            ]
          },
          "metadata": {
            "tags": []
          },
          "execution_count": 8
        }
      ]
    },
    {
      "cell_type": "markdown",
      "metadata": {
        "id": "jtnrdnLL29QX",
        "colab_type": "text"
      },
      "source": [
        "## dates"
      ]
    },
    {
      "cell_type": "code",
      "metadata": {
        "id": "7S3i1hRY3Cri",
        "colab_type": "code",
        "outputId": "26ed84c3-7609-4d3d-db8b-d496b0257e37",
        "colab": {
          "base_uri": "https://localhost:8080/"
        }
      },
      "source": [
        "dates = pd.to_datetime(train_df.premiere)\n",
        "year_df = dates.dt.year.rename('year')\n",
        "month_df = dates.dt.month.rename('month')\n",
        "day_df = dates.dt.day.rename('day')\n",
        "dates_df = pd.concat([year_df, month_df, day_df], axis=1)\n",
        "dates_df.head()"
      ],
      "execution_count": 0,
      "outputs": [
        {
          "output_type": "execute_result",
          "data": {
            "text/html": [
              "<div>\n",
              "<style scoped>\n",
              "    .dataframe tbody tr th:only-of-type {\n",
              "        vertical-align: middle;\n",
              "    }\n",
              "\n",
              "    .dataframe tbody tr th {\n",
              "        vertical-align: top;\n",
              "    }\n",
              "\n",
              "    .dataframe thead th {\n",
              "        text-align: right;\n",
              "    }\n",
              "</style>\n",
              "<table border=\"1\" class=\"dataframe\">\n",
              "  <thead>\n",
              "    <tr style=\"text-align: right;\">\n",
              "      <th></th>\n",
              "      <th>year</th>\n",
              "      <th>month</th>\n",
              "      <th>day</th>\n",
              "    </tr>\n",
              "  </thead>\n",
              "  <tbody>\n",
              "    <tr>\n",
              "      <th>0</th>\n",
              "      <td>2009</td>\n",
              "      <td>9</td>\n",
              "      <td>4</td>\n",
              "    </tr>\n",
              "    <tr>\n",
              "      <th>3</th>\n",
              "      <td>2002</td>\n",
              "      <td>6</td>\n",
              "      <td>21</td>\n",
              "    </tr>\n",
              "    <tr>\n",
              "      <th>4</th>\n",
              "      <td>2009</td>\n",
              "      <td>1</td>\n",
              "      <td>1</td>\n",
              "    </tr>\n",
              "    <tr>\n",
              "      <th>6</th>\n",
              "      <td>2014</td>\n",
              "      <td>8</td>\n",
              "      <td>8</td>\n",
              "    </tr>\n",
              "    <tr>\n",
              "      <th>10</th>\n",
              "      <td>2004</td>\n",
              "      <td>3</td>\n",
              "      <td>12</td>\n",
              "    </tr>\n",
              "  </tbody>\n",
              "</table>\n",
              "</div>"
            ],
            "text/plain": [
              "    year  month  day\n",
              "0   2009      9    4\n",
              "3   2002      6   21\n",
              "4   2009      1    1\n",
              "6   2014      8    8\n",
              "10  2004      3   12"
            ]
          },
          "metadata": {
            "tags": []
          },
          "execution_count": 9
        }
      ]
    },
    {
      "cell_type": "markdown",
      "metadata": {
        "id": "nPboHuEUCBTn",
        "colab_type": "text"
      },
      "source": [
        "## preprocessed data"
      ]
    },
    {
      "cell_type": "code",
      "metadata": {
        "id": "yCA20RepKrUa",
        "colab_type": "code",
        "outputId": "396379d6-0c0c-4f2a-a3ae-e279bc2ddbab",
        "colab": {
          "base_uri": "https://localhost:8080/",
          "height": 204
        }
      },
      "source": [
        "data_df = pd.concat([train_df.entity_id, name_df, description_df, genres_df, year_df, month_df, day_df], axis=1).reset_index(drop=True)\n",
        "data_df.head()"
      ],
      "execution_count": 0,
      "outputs": [
        {
          "output_type": "execute_result",
          "data": {
            "text/html": [
              "<div>\n",
              "<style scoped>\n",
              "    .dataframe tbody tr th:only-of-type {\n",
              "        vertical-align: middle;\n",
              "    }\n",
              "\n",
              "    .dataframe tbody tr th {\n",
              "        vertical-align: top;\n",
              "    }\n",
              "\n",
              "    .dataframe thead th {\n",
              "        text-align: right;\n",
              "    }\n",
              "</style>\n",
              "<table border=\"1\" class=\"dataframe\">\n",
              "  <thead>\n",
              "    <tr style=\"text-align: right;\">\n",
              "      <th></th>\n",
              "      <th>entity_id</th>\n",
              "      <th>name</th>\n",
              "      <th>description</th>\n",
              "      <th>genres</th>\n",
              "      <th>year</th>\n",
              "      <th>month</th>\n",
              "      <th>day</th>\n",
              "    </tr>\n",
              "  </thead>\n",
              "  <tbody>\n",
              "    <tr>\n",
              "      <th>0</th>\n",
              "      <td>fb12ea15f0a94392998e6ba8f0828593</td>\n",
              "      <td>[72, 113, 122]</td>\n",
              "      <td>[104, 113, 122, 34, 103, 102, 105, 103, 34, 11...</td>\n",
              "      <td>[1, 2, 3]</td>\n",
              "      <td>2009</td>\n",
              "      <td>9</td>\n",
              "      <td>4</td>\n",
              "    </tr>\n",
              "    <tr>\n",
              "      <th>1</th>\n",
              "      <td>ed090fa63254441ab3d4dd83c9ddc891</td>\n",
              "      <td>[79, 107, 112, 113, 116, 107, 118, 123, 34, 84...</td>\n",
              "      <td>[121, 99, 117, 106, 107, 112, 105, 118, 113, 1...</td>\n",
              "      <td>[4, 5, 6]</td>\n",
              "      <td>2002</td>\n",
              "      <td>6</td>\n",
              "      <td>21</td>\n",
              "    </tr>\n",
              "    <tr>\n",
              "      <th>2</th>\n",
              "      <td>b2725ec69dc54f5e9a687c84487cf30a</td>\n",
              "      <td>[70, 103, 99, 116, 34, 76, 99, 101, 109]</td>\n",
              "      <td>[99, 112, 102, 116, 103, 121, 34, 111, 101, 11...</td>\n",
              "      <td>[7]</td>\n",
              "      <td>2009</td>\n",
              "      <td>1</td>\n",
              "      <td>1</td>\n",
              "    </tr>\n",
              "    <tr>\n",
              "      <th>3</th>\n",
              "      <td>93c2491ae356408d8d04a63907b42fee</td>\n",
              "      <td>[67, 118, 34, 86, 106, 103, 34, 70, 103, 120, ...</td>\n",
              "      <td>[114, 116, 113, 102, 119, 101, 103, 116, 34, 1...</td>\n",
              "      <td>[8, 9]</td>\n",
              "      <td>2014</td>\n",
              "      <td>8</td>\n",
              "      <td>8</td>\n",
              "    </tr>\n",
              "    <tr>\n",
              "      <th>4</th>\n",
              "      <td>fecd9360da1d4370b91481eec4621d18</td>\n",
              "      <td>[79, 113, 108, 99, 102, 113, 117, 60, 34, 86, ...</td>\n",
              "      <td>[104, 107, 110, 111, 111, 99, 109, 103, 116, 3...</td>\n",
              "      <td>[7]</td>\n",
              "      <td>2004</td>\n",
              "      <td>3</td>\n",
              "      <td>12</td>\n",
              "    </tr>\n",
              "  </tbody>\n",
              "</table>\n",
              "</div>"
            ],
            "text/plain": [
              "                          entity_id  ... day\n",
              "0  fb12ea15f0a94392998e6ba8f0828593  ...   4\n",
              "1  ed090fa63254441ab3d4dd83c9ddc891  ...  21\n",
              "2  b2725ec69dc54f5e9a687c84487cf30a  ...   1\n",
              "3  93c2491ae356408d8d04a63907b42fee  ...   8\n",
              "4  fecd9360da1d4370b91481eec4621d18  ...  12\n",
              "\n",
              "[5 rows x 7 columns]"
            ]
          },
          "metadata": {
            "tags": []
          },
          "execution_count": 10
        }
      ]
    },
    {
      "cell_type": "code",
      "metadata": {
        "id": "0UNgRGEYVgKB",
        "colab_type": "code",
        "outputId": "eeeacaae-2522-4d14-c8f4-b22b32bdb1ab",
        "colab": {
          "base_uri": "https://localhost:8080/",
          "height": 375
        }
      },
      "source": [
        "width = max(data_df.description.str.len())\n",
        "\n",
        "feature_vector = []\n",
        "\n",
        "for i,row in data_df.iterrows():\n",
        "  v = np.vstack([np.pad(row['name'], (0, width-len(row['name'])), 'constant', constant_values=0), \n",
        "                 np.pad(row.description, (0, width-len(row.description)), 'constant', constant_values=0), \n",
        "                 np.pad(row.genres, (0, width-len(row.genres)), 'constant', constant_values=0), \n",
        "                 np.pad([row.year, row.month, row.day], (0, width-3), 'constant', constant_values=0)])\n",
        "  feature_vector.append(v)\n"
      ],
      "execution_count": 0,
      "outputs": [
        {
          "output_type": "error",
          "ename": "KeyboardInterrupt",
          "evalue": "ignored",
          "traceback": [
            "\u001b[0;31m---------------------------------------------------------------------------\u001b[0m",
            "\u001b[0;31mKeyboardInterrupt\u001b[0m                         Traceback (most recent call last)",
            "\u001b[0;32m<ipython-input-11-4adf55b3fdb1>\u001b[0m in \u001b[0;36m<module>\u001b[0;34m()\u001b[0m\n\u001b[1;32m      6\u001b[0m   v = np.vstack([np.pad(row['name'], (0, width-len(row['name'])), 'constant', constant_values=0), \n\u001b[1;32m      7\u001b[0m                  \u001b[0mnp\u001b[0m\u001b[0;34m.\u001b[0m\u001b[0mpad\u001b[0m\u001b[0;34m(\u001b[0m\u001b[0mrow\u001b[0m\u001b[0;34m.\u001b[0m\u001b[0mdescription\u001b[0m\u001b[0;34m,\u001b[0m \u001b[0;34m(\u001b[0m\u001b[0;36m0\u001b[0m\u001b[0;34m,\u001b[0m \u001b[0mwidth\u001b[0m\u001b[0;34m-\u001b[0m\u001b[0mlen\u001b[0m\u001b[0;34m(\u001b[0m\u001b[0mrow\u001b[0m\u001b[0;34m.\u001b[0m\u001b[0mdescription\u001b[0m\u001b[0;34m)\u001b[0m\u001b[0;34m)\u001b[0m\u001b[0;34m,\u001b[0m \u001b[0;34m'constant'\u001b[0m\u001b[0;34m,\u001b[0m \u001b[0mconstant_values\u001b[0m\u001b[0;34m=\u001b[0m\u001b[0;36m0\u001b[0m\u001b[0;34m)\u001b[0m\u001b[0;34m,\u001b[0m\u001b[0;34m\u001b[0m\u001b[0;34m\u001b[0m\u001b[0m\n\u001b[0;32m----> 8\u001b[0;31m                  \u001b[0mnp\u001b[0m\u001b[0;34m.\u001b[0m\u001b[0mpad\u001b[0m\u001b[0;34m(\u001b[0m\u001b[0mrow\u001b[0m\u001b[0;34m.\u001b[0m\u001b[0mgenres\u001b[0m\u001b[0;34m,\u001b[0m \u001b[0;34m(\u001b[0m\u001b[0;36m0\u001b[0m\u001b[0;34m,\u001b[0m \u001b[0mwidth\u001b[0m\u001b[0;34m-\u001b[0m\u001b[0mlen\u001b[0m\u001b[0;34m(\u001b[0m\u001b[0mrow\u001b[0m\u001b[0;34m.\u001b[0m\u001b[0mgenres\u001b[0m\u001b[0;34m)\u001b[0m\u001b[0;34m)\u001b[0m\u001b[0;34m,\u001b[0m \u001b[0;34m'constant'\u001b[0m\u001b[0;34m,\u001b[0m \u001b[0mconstant_values\u001b[0m\u001b[0;34m=\u001b[0m\u001b[0;36m0\u001b[0m\u001b[0;34m)\u001b[0m\u001b[0;34m,\u001b[0m\u001b[0;34m\u001b[0m\u001b[0;34m\u001b[0m\u001b[0m\n\u001b[0m\u001b[1;32m      9\u001b[0m                  np.pad([row.year, row.month, row.day], (0, width-3), 'constant', constant_values=0)])\n\u001b[1;32m     10\u001b[0m   \u001b[0mfeature_vector\u001b[0m\u001b[0;34m.\u001b[0m\u001b[0mappend\u001b[0m\u001b[0;34m(\u001b[0m\u001b[0mv\u001b[0m\u001b[0;34m)\u001b[0m\u001b[0;34m\u001b[0m\u001b[0;34m\u001b[0m\u001b[0m\n",
            "\u001b[0;32m/usr/local/lib/python3.6/dist-packages/pandas/core/generic.py\u001b[0m in \u001b[0;36m__getattr__\u001b[0;34m(self, name)\u001b[0m\n\u001b[1;32m   5064\u001b[0m         \u001b[0;32melse\u001b[0m\u001b[0;34m:\u001b[0m\u001b[0;34m\u001b[0m\u001b[0;34m\u001b[0m\u001b[0m\n\u001b[1;32m   5065\u001b[0m             \u001b[0;32mif\u001b[0m \u001b[0mself\u001b[0m\u001b[0;34m.\u001b[0m\u001b[0m_info_axis\u001b[0m\u001b[0;34m.\u001b[0m\u001b[0m_can_hold_identifiers_and_holds_name\u001b[0m\u001b[0;34m(\u001b[0m\u001b[0mname\u001b[0m\u001b[0;34m)\u001b[0m\u001b[0;34m:\u001b[0m\u001b[0;34m\u001b[0m\u001b[0;34m\u001b[0m\u001b[0m\n\u001b[0;32m-> 5066\u001b[0;31m                 \u001b[0;32mreturn\u001b[0m \u001b[0mself\u001b[0m\u001b[0;34m[\u001b[0m\u001b[0mname\u001b[0m\u001b[0;34m]\u001b[0m\u001b[0;34m\u001b[0m\u001b[0;34m\u001b[0m\u001b[0m\n\u001b[0m\u001b[1;32m   5067\u001b[0m             \u001b[0;32mreturn\u001b[0m \u001b[0mobject\u001b[0m\u001b[0;34m.\u001b[0m\u001b[0m__getattribute__\u001b[0m\u001b[0;34m(\u001b[0m\u001b[0mself\u001b[0m\u001b[0;34m,\u001b[0m \u001b[0mname\u001b[0m\u001b[0;34m)\u001b[0m\u001b[0;34m\u001b[0m\u001b[0;34m\u001b[0m\u001b[0m\n\u001b[1;32m   5068\u001b[0m \u001b[0;34m\u001b[0m\u001b[0m\n",
            "\u001b[0;32m/usr/local/lib/python3.6/dist-packages/pandas/core/series.py\u001b[0m in \u001b[0;36m__getitem__\u001b[0;34m(self, key)\u001b[0m\n\u001b[1;32m    866\u001b[0m         \u001b[0mkey\u001b[0m \u001b[0;34m=\u001b[0m \u001b[0mcom\u001b[0m\u001b[0;34m.\u001b[0m\u001b[0mapply_if_callable\u001b[0m\u001b[0;34m(\u001b[0m\u001b[0mkey\u001b[0m\u001b[0;34m,\u001b[0m \u001b[0mself\u001b[0m\u001b[0;34m)\u001b[0m\u001b[0;34m\u001b[0m\u001b[0;34m\u001b[0m\u001b[0m\n\u001b[1;32m    867\u001b[0m         \u001b[0;32mtry\u001b[0m\u001b[0;34m:\u001b[0m\u001b[0;34m\u001b[0m\u001b[0;34m\u001b[0m\u001b[0m\n\u001b[0;32m--> 868\u001b[0;31m             \u001b[0mresult\u001b[0m \u001b[0;34m=\u001b[0m \u001b[0mself\u001b[0m\u001b[0;34m.\u001b[0m\u001b[0mindex\u001b[0m\u001b[0;34m.\u001b[0m\u001b[0mget_value\u001b[0m\u001b[0;34m(\u001b[0m\u001b[0mself\u001b[0m\u001b[0;34m,\u001b[0m \u001b[0mkey\u001b[0m\u001b[0;34m)\u001b[0m\u001b[0;34m\u001b[0m\u001b[0;34m\u001b[0m\u001b[0m\n\u001b[0m\u001b[1;32m    869\u001b[0m \u001b[0;34m\u001b[0m\u001b[0m\n\u001b[1;32m    870\u001b[0m             \u001b[0;32mif\u001b[0m \u001b[0;32mnot\u001b[0m \u001b[0mis_scalar\u001b[0m\u001b[0;34m(\u001b[0m\u001b[0mresult\u001b[0m\u001b[0;34m)\u001b[0m\u001b[0;34m:\u001b[0m\u001b[0;34m\u001b[0m\u001b[0;34m\u001b[0m\u001b[0m\n",
            "\u001b[0;31mKeyboardInterrupt\u001b[0m: "
          ]
        }
      ]
    },
    {
      "cell_type": "code",
      "metadata": {
        "id": "arzW5gPIVknZ",
        "colab_type": "code",
        "colab": {}
      },
      "source": [
        "# dataset = np.array(feature_vector)\n",
        "# dataset.shape\n",
        "np.save(os.path.join(data_path, 'dataset'), dataset)"
      ],
      "execution_count": 0,
      "outputs": []
    },
    {
      "cell_type": "code",
      "metadata": {
        "id": "0CrOaLOTr311",
        "colab_type": "code",
        "colab": {}
      },
      "source": [
        "del feature_vector\n",
        "del train_df, name_df, genres_df, description_df, description_string_df, year_df"
      ],
      "execution_count": 0,
      "outputs": []
    },
    {
      "cell_type": "markdown",
      "metadata": {
        "id": "Q5h7QU2IKSH9",
        "colab_type": "text"
      },
      "source": [
        "## load dataset"
      ]
    },
    {
      "cell_type": "code",
      "metadata": {
        "id": "tPRzxT9HJvD1",
        "colab_type": "code",
        "colab": {}
      },
      "source": [
        "dataset = np.load(os.path.join(data_path, 'dataset'))"
      ],
      "execution_count": 0,
      "outputs": []
    },
    {
      "cell_type": "markdown",
      "metadata": {
        "id": "xz6hlQOOC_0b",
        "colab_type": "text"
      },
      "source": [
        "## generate positive & negative samples\n",
        "label : index, index"
      ]
    },
    {
      "cell_type": "code",
      "metadata": {
        "id": "p8pKNnKNbmNy",
        "colab_type": "code",
        "colab": {}
      },
      "source": [
        "pos_neg_ratio = 50 #@param {type:\"slider\", min:0, max:100, step:1}\n",
        "use_single_groups = False #@param {type:\"boolean\"}"
      ],
      "execution_count": 0,
      "outputs": []
    },
    {
      "cell_type": "code",
      "metadata": {
        "id": "QnDJ8q8tMQPS",
        "colab_type": "code",
        "colab": {}
      },
      "source": [
        "\n",
        "def add_group_to_samples(g):\n",
        "  matches = []\n",
        "  g_array = g.index.data\n",
        "  for pair in combinations(g_array, 2):\n",
        "    matches.append([1, pair[0], pair[1]])\n",
        "  if matches:\n",
        "    return pd.DataFrame(matches, columns=['label', 'id_1', 'id_2'])\n",
        "  else:\n",
        "    return pd.DataFrame([[0, g_array[0], -1]], columns=['label', 'id_1', 'id_2'])\n",
        "  \n",
        "raw_samples_df = data_df.groupby(by='entity_id').apply(lambda x: add_group_to_samples(x)).reset_index()"
      ],
      "execution_count": 0,
      "outputs": []
    },
    {
      "cell_type": "code",
      "metadata": {
        "id": "TPvG4YSoR0S3",
        "colab_type": "code",
        "colab": {}
      },
      "source": [
        "raw_samples_df.head()"
      ],
      "execution_count": 0,
      "outputs": []
    },
    {
      "cell_type": "code",
      "metadata": {
        "id": "kj4BibO5S78u",
        "colab_type": "code",
        "colab": {}
      },
      "source": [
        "pos = raw_samples_df[raw_samples_df.label == 1].shape[0]\n",
        "no_pair = raw_samples_df[raw_samples_df.label == 0].shape[0]\n",
        "unique_match_groups = len(raw_samples_df[raw_samples_df.label == 1].groupby(by='entity_id'))\n",
        "print('total positive samples: ', pos)\n",
        "print('total representations with no pair: ', no_pair)\n",
        "print('total groups for negative samples to match against: ', unique_match_groups)\n"
      ],
      "execution_count": 0,
      "outputs": []
    },
    {
      "cell_type": "code",
      "metadata": {
        "id": "cccECvJDf9b7",
        "colab_type": "code",
        "colab": {}
      },
      "source": [
        "raw_samples = raw_samples_df[['label', 'id_1', 'id_2']].to_numpy()\n",
        "del raw_samples_df\n",
        "\n",
        "pos_pairs = raw_samples[raw_samples[:,0] == 1]\n",
        "negs = np.tile(raw_samples[raw_samples[:,0] == 0][:, 1], 50)\n",
        "neg_pos = np.random.choice(raw_samples[raw_samples[:,0] == 1,1:].flatten(), size=(negs.shape[0]))\n",
        "neg_pairs = np.vstack([np.zeros_like(negs), negs, neg_pos]).T\n",
        "\n",
        "del raw_samples\n",
        "# data_pairs = np.vstack((raw_samples[raw_samples[:,0] == 1], np.vstack([np.zeros_like(negs), negs, neg_pairs]).T))"
      ],
      "execution_count": 0,
      "outputs": []
    },
    {
      "cell_type": "code",
      "metadata": {
        "id": "4fi9Bc2Cx9EJ",
        "colab_type": "code",
        "colab": {}
      },
      "source": [
        "del data_df"
      ],
      "execution_count": 0,
      "outputs": []
    },
    {
      "cell_type": "code",
      "metadata": {
        "id": "tw-uHWwjutAx",
        "colab_type": "code",
        "colab": {}
      },
      "source": [
        "from sklearn.model_selection import train_test_split"
      ],
      "execution_count": 0,
      "outputs": []
    },
    {
      "cell_type": "code",
      "metadata": {
        "id": "cGw_b6XBpdmh",
        "colab_type": "code",
        "colab": {}
      },
      "source": [
        "pos_train, pos_not_train = train_test_split(pos_pairs, test_size=.3)\n",
        "neg_train, neg_not_train = train_test_split(neg_pairs, test_size=.3)\n",
        "\n",
        "\n",
        "pos_test, pos_dev = train_test_split(pos_not_train, test_size=.5)\n",
        "neg_test, neg_dev = train_test_split(neg_not_train, test_size=.5)\n",
        "\n",
        "del pos_not_train, neg_not_train\n",
        "\n",
        "\n",
        "np.save(os.path.join(data_path, 'train'), np.vstack((pos_train, neg_train)))\n",
        "np.save(os.path.join(data_path, 'test'), np.vstack((pos_test, neg_test)))\n",
        "np.save(os.path.join(data_path, 'dev'), np.vstack((pos_dev, neg_dev)))\n"
      ],
      "execution_count": 0,
      "outputs": []
    },
    {
      "cell_type": "markdown",
      "metadata": {
        "id": "DPt-UtVJn4_K",
        "colab_type": "text"
      },
      "source": [
        "# Siamese Network"
      ]
    },
    {
      "cell_type": "markdown",
      "metadata": {
        "id": "WWTtoiziomXE",
        "colab_type": "text"
      },
      "source": [
        "### Initialize with imports for keras and tf"
      ]
    },
    {
      "cell_type": "code",
      "metadata": {
        "id": "Utq7WNuvnaas",
        "colab_type": "code",
        "outputId": "0f466b11-439d-48ac-ac2a-9ff6d546a590",
        "colab": {
          "base_uri": "https://localhost:8080/",
          "height": 34
        }
      },
      "source": [
        "import keras\n",
        "from keras.optimizers import Adam\n",
        "from keras.layers import Conv2D, Activation, Input, concatenate\n",
        "from keras.models import Model, Sequential, load_model\n",
        "from keras.layers.normalization import BatchNormalization\n",
        "from keras.layers.pooling import MaxPooling2D, AveragePooling2D\n",
        "from keras.layers.core import Dense, Flatten, Lambda\n",
        "from keras.regularizers import l2\n",
        "from keras.engine.topology import Layer\n",
        "from keras.callbacks import ModelCheckpoint\n",
        "from keras import backend as K\n",
        "\n",
        "import tensorflow as tf\n",
        "import numpy as np\n",
        "import seaborn as sns\n",
        "import cv2\n",
        "import time\n",
        "import os\n",
        "\n",
        "%matplotlib inline\n",
        "%load_ext autoreload\n",
        "%reload_ext autoreload\n",
        "\n",
        "# np.set_printoptions(threshold=np.nan)\n",
        "data_path = '/content/drive/My Drive/dupe_detection'\n",
        "model_path = os.path.join(data_path, \"model.v4.h5\")\n",
        "model_weights_path = os.path.join(data_path, \"model_weights_95.h5\")"
      ],
      "execution_count": 0,
      "outputs": [
        {
          "output_type": "stream",
          "text": [
            "Using TensorFlow backend.\n"
          ],
          "name": "stderr"
        }
      ]
    },
    {
      "cell_type": "markdown",
      "metadata": {
        "id": "3x9C0yHsrVJY",
        "colab_type": "text"
      },
      "source": [
        "### Initializers"
      ]
    },
    {
      "cell_type": "code",
      "metadata": {
        "id": "F7xjAyjUrZVY",
        "colab_type": "code",
        "outputId": "12e166b5-eee3-4c28-be20-8521bdbee415",
        "colab": {
          "base_uri": "https://localhost:8080/",
          "height": 269
        }
      },
      "source": [
        "def initialize_weights(shape, name=None):\n",
        "    \"\"\"\n",
        "        The paper, http://www.cs.utoronto.ca/~gkoch/files/msc-thesis.pdf\n",
        "        suggests to initialize CNN layer weights with mean as 0.0 and standard deviation of 0.01\n",
        "    \"\"\"\n",
        "    return np.random.normal(loc = 0.0, scale = 1e-2, size = shape)\n",
        "  \n",
        "\n",
        "def initialize_bias(shape, name=None):\n",
        "    \"\"\"\n",
        "        The paper, http://www.cs.utoronto.ca/~gkoch/files/msc-thesis.pdf\n",
        "        suggests to initialize CNN layer bias with mean as 0.5 and standard deviation of 0.01\n",
        "    \"\"\"\n",
        "    return np.random.normal(loc = 0.5, scale = 1e-2, size = shape)\n",
        "  \n",
        "weights = initialize_weights((1000,1))\n",
        "sns.distplot(weights)\n",
        "# plt.title(\"Plot of weights initialized, with mean of 0.0 and standard deviation of 0.01\")\n",
        "bias = initialize_bias((1000,1))\n",
        "sns.distplot(bias)\n",
        "# plt.title(\"Plot of biases initialized, with mean of 0.0 and standard deviation of 0.01\")\n",
        "\n",
        "class CustomWeightsInitializer:\n",
        "  def __call__(self, shape):\n",
        "    return initialize_weights(shape)\n",
        "  \n",
        "class CustomBiasInitializer:\n",
        "  def __call__(self, shape):\n",
        "    return initialize_bias(shape)"
      ],
      "execution_count": 0,
      "outputs": [
        {
          "output_type": "display_data",
          "data": {
            "image/png": "[encoded data removed]",
            "text/plain": [
              "<Figure size 432x288 with 1 Axes>"
            ]
          },
          "metadata": {
            "tags": []
          }
        }
      ]
    },
    {
      "cell_type": "markdown",
      "metadata": {
        "id": "R3yJwVZyqDwd",
        "colab_type": "text"
      },
      "source": [
        "\n",
        "\n",
        "### Define the network architecture for siam net"
      ]
    },
    {
      "cell_type": "code",
      "metadata": {
        "id": "ooLmZpqVPr09",
        "colab_type": "code",
        "colab": {}
      },
      "source": [
        "def get_encoder_model(input_shape):\n",
        "  model = Sequential()\n",
        "  model.add(Conv2D(4, (1,48), activation='relu', input_shape=input_shape, \n",
        "                   kernel_initializer=initialize_weights, kernel_regularizer=l2(2e-3)))\n",
        "  model.add(MaxPooling2D(pool_size=(1,16), strides=(1,8)))\n",
        "  model.add(Conv2D(16, (1,24), activation='tanh', input_shape=input_shape, \n",
        "                   kernel_initializer=initialize_weights, kernel_regularizer=l2(2e-3)))\n",
        "  model.add(MaxPooling2D(pool_size=(1,8), strides=(1,4)))\n",
        "  model.add(Conv2D(32, (1,12), activation='tanh', input_shape=input_shape, \n",
        "                   kernel_initializer=initialize_weights, kernel_regularizer=l2(2e-3)))\n",
        "  model.add(MaxPooling2D(pool_size=(1,4), strides=(1,2)))\n",
        "  model.add(Conv2D(64, (4,1), activation='tanh', kernel_initializer=initialize_weights,\n",
        "                     bias_initializer=initialize_bias, kernel_regularizer=l2(2e-3)))\n",
        "  model.add(Flatten())\n",
        "  \n",
        "  return model"
      ],
      "execution_count": 0,
      "outputs": []
    },
    {
      "cell_type": "code",
      "metadata": {
        "id": "i3z_t2zkclUb",
        "colab_type": "code",
        "colab": {}
      },
      "source": [
        "def get_experimental_encoder_model(input_shape):\n",
        "  model = Sequential()\n",
        "  model.add(Conv2D(4, (1,48), activation='relu', input_shape=input_shape, \n",
        "                   kernel_initializer=initialize_weights, kernel_regularizer=l2(2e-3)))\n",
        "  model.add(MaxPooling2D(pool_size=(1,16), strides=(1,8)))\n",
        "  model.add(Conv2D(16, (1,24), activation='tanh', input_shape=input_shape, \n",
        "                   kernel_initializer=initialize_weights, kernel_regularizer=l2(2e-3)))\n",
        "  model.add(MaxPooling2D(pool_size=(1,8), strides=(1,4)))\n",
        "  model.add(Conv2D(32, (4,1), activation='tanh', kernel_initializer=initialize_weights,\n",
        "                     bias_initializer=initialize_bias, kernel_regularizer=l2(2e-3)))\n",
        "  model.add(Flatten())\n",
        "  \n",
        "  return model"
      ],
      "execution_count": 0,
      "outputs": []
    },
    {
      "cell_type": "code",
      "metadata": {
        "id": "4ZUQJ3CTq11v",
        "colab_type": "code",
        "colab": {}
      },
      "source": [
        "def get_siamese_model(input_shape):\n",
        "    \"\"\"\n",
        "        Model architecture based on the one provided in: http://www.cs.utoronto.ca/~gkoch/files/msc-thesis.pdf\n",
        "    \"\"\"\n",
        "    left_input = Input(input_shape)\n",
        "    right_input = Input(input_shape)\n",
        "    \n",
        "    encoder_model = get_encoder_model(input_shape)\n",
        "    encoded_l = encoder_model(left_input)\n",
        "    encoded_r = encoder_model(right_input)\n",
        "    \n",
        "    L1_layer = Lambda(lambda tensors:K.abs(tensors[0] - tensors[1]))\n",
        "    L1_distance = L1_layer([encoded_l, encoded_r])\n",
        "    prediction = Dense(1,activation='sigmoid',bias_initializer=initialize_bias)(L1_distance)\n",
        "    siamese_net = Model(inputs=[left_input,right_input],outputs=prediction)\n",
        "    \n",
        "    optimizer = Adam(lr=0.00006)\n",
        "    siamese_net.compile(loss=\"binary_crossentropy\",optimizer=optimizer, metrics=['accuracy'])\n",
        "    \n",
        "    return siamese_net"
      ],
      "execution_count": 0,
      "outputs": []
    },
    {
      "cell_type": "markdown",
      "metadata": {
        "id": "QQrA2Jy_rOY1",
        "colab_type": "text"
      },
      "source": [
        "verify the network"
      ]
    },
    {
      "cell_type": "code",
      "metadata": {
        "id": "Ive9Cfx2rQE5",
        "colab_type": "code",
        "outputId": "d132bb53-cba9-4061-e5aa-d8c2a3849dc6",
        "colab": {
          "base_uri": "https://localhost:8080/",
          "height": 632
        }
      },
      "source": [
        "model = get_siamese_model((4, 3800, 1))\n",
        "model.summary()\n",
        "model = None"
      ],
      "execution_count": 0,
      "outputs": [
        {
          "output_type": "stream",
          "text": [
            "WARNING: Logging before flag parsing goes to stderr.\n",
            "W0729 03:08:42.194964 140057118205824 deprecation_wrapper.py:119] From /usr/local/lib/python3.6/dist-packages/keras/backend/tensorflow_backend.py:74: The name tf.get_default_graph is deprecated. Please use tf.compat.v1.get_default_graph instead.\n",
            "\n",
            "W0729 03:08:42.239894 140057118205824 deprecation_wrapper.py:119] From /usr/local/lib/python3.6/dist-packages/keras/backend/tensorflow_backend.py:517: The name tf.placeholder is deprecated. Please use tf.compat.v1.placeholder instead.\n",
            "\n",
            "W0729 03:08:42.281084 140057118205824 deprecation_wrapper.py:119] From /usr/local/lib/python3.6/dist-packages/keras/backend/tensorflow_backend.py:3976: The name tf.nn.max_pool is deprecated. Please use tf.nn.max_pool2d instead.\n",
            "\n",
            "W0729 03:08:42.365862 140057118205824 deprecation_wrapper.py:119] From /usr/local/lib/python3.6/dist-packages/keras/backend/tensorflow_backend.py:4138: The name tf.random_uniform is deprecated. Please use tf.random.uniform instead.\n",
            "\n",
            "W0729 03:08:42.390886 140057118205824 deprecation_wrapper.py:119] From /usr/local/lib/python3.6/dist-packages/keras/optimizers.py:790: The name tf.train.Optimizer is deprecated. Please use tf.compat.v1.train.Optimizer instead.\n",
            "\n",
            "W0729 03:08:42.396876 140057118205824 deprecation_wrapper.py:119] From /usr/local/lib/python3.6/dist-packages/keras/backend/tensorflow_backend.py:3376: The name tf.log is deprecated. Please use tf.math.log instead.\n",
            "\n",
            "W0729 03:08:42.402047 140057118205824 deprecation.py:323] From /usr/local/lib/python3.6/dist-packages/tensorflow/python/ops/nn_impl.py:180: add_dispatch_support.<locals>.wrapper (from tensorflow.python.ops.array_ops) is deprecated and will be removed in a future version.\n",
            "Instructions for updating:\n",
            "Use tf.where in 2.0, which has the same broadcast rule as np.where\n"
          ],
          "name": "stderr"
        },
        {
          "output_type": "stream",
          "text": [
            "__________________________________________________________________________________________________\n",
            "Layer (type)                    Output Shape         Param #     Connected to                     \n",
            "==================================================================================================\n",
            "input_1 (InputLayer)            (None, 4, 3800, 1)   0                                            \n",
            "__________________________________________________________________________________________________\n",
            "input_2 (InputLayer)            (None, 4, 3800, 1)   0                                            \n",
            "__________________________________________________________________________________________________\n",
            "sequential_1 (Sequential)       (None, 3072)         16180       input_1[0][0]                    \n",
            "                                                                 input_2[0][0]                    \n",
            "__________________________________________________________________________________________________\n",
            "lambda_1 (Lambda)               (None, 3072)         0           sequential_1[1][0]               \n",
            "                                                                 sequential_1[2][0]               \n",
            "__________________________________________________________________________________________________\n",
            "dense_1 (Dense)                 (None, 1)            3073        lambda_1[0][0]                   \n",
            "==================================================================================================\n",
            "Total params: 19,253\n",
            "Trainable params: 19,253\n",
            "Non-trainable params: 0\n",
            "__________________________________________________________________________________________________\n"
          ],
          "name": "stdout"
        }
      ]
    },
    {
      "cell_type": "markdown",
      "metadata": {
        "id": "DN55uXxy4ONA",
        "colab_type": "text"
      },
      "source": [
        "# Training Pipeline"
      ]
    },
    {
      "cell_type": "code",
      "metadata": {
        "id": "CSEKuABSLb7A",
        "colab_type": "code",
        "colab": {}
      },
      "source": [
        "def load_dataset():\n",
        "  dataset = np.load(os.path.join(data_path, 'dataset.npy'))\n",
        "  return dataset\n",
        "\n",
        "dataset = load_dataset()"
      ],
      "execution_count": 0,
      "outputs": []
    },
    {
      "cell_type": "code",
      "metadata": {
        "id": "8tz8E47EOO_Z",
        "colab_type": "code",
        "colab": {}
      },
      "source": [
        "dataset[0:3].T.shape\n",
        "input_shape = (dataset.shape[1], dataset.shape[2], 1)"
      ],
      "execution_count": 0,
      "outputs": []
    },
    {
      "cell_type": "code",
      "metadata": {
        "id": "KsPiKXCk42Gk",
        "colab_type": "code",
        "outputId": "838f616d-0a0e-456e-da24-d7cb8c4b0a47",
        "colab": {
          "base_uri": "https://localhost:8080/",
          "height": 68
        }
      },
      "source": [
        "class Siamese_Loader:\n",
        "    \"\"\"For loading batches and testing tasks to a siamese net\"\"\"\n",
        "    def __init__(self, path, data_subsets = [\"train\", \"dev\", \"test\"]):\n",
        "        self.data = {}\n",
        "        self.categories = {}\n",
        "        self.info = {}\n",
        "        \n",
        "        for name in data_subsets:\n",
        "            file_path = os.path.join(path, name + \".npy\")\n",
        "            print(\"loading data from {}\".format(file_path))\n",
        "            with open(file_path,\"rb\") as f:\n",
        "                data = np.load(f)\n",
        "                X = data[:, 1:]\n",
        "                y = data[:, 0]\n",
        "                self.data[name] = X\n",
        "                self.categories[name] = y\n",
        "\n",
        "    def get_batch(self,batch_size,s=\"train\"):\n",
        "        \n",
        "        start = 0\n",
        "        while True:\n",
        "            end = min(start+batch_size, self.data[s].shape[0])\n",
        "            p1, p2 = self.data[s][start:end].T\n",
        "            yield [dataset[p1][...,np.newaxis], dataset[p2][...,np.newaxis]], self.categories[s][start:end]\n",
        "            if end == self.data[s].shape[0]:\n",
        "              start = - batch_size\n",
        "            start += batch_size\n",
        "    \n",
        "    def generate(self, batch_size, s=\"train\"):\n",
        "        \"\"\"a generator for batches, so model.fit_generator can be used. \"\"\"\n",
        "        while True:\n",
        "            pairs, targets = self.get_batch(batch_size,s)\n",
        "            yield (pairs, targets)    \n",
        "    \n",
        "    def train(self, model, epochs, batch_size=32):\n",
        "        train_steps = loader.data['train'].shape[0] // batch_size\n",
        "        validation_steps = loader.data['dev'].shape[0] // batch_size\n",
        "        callbacks = [ModelCheckpoint(model_path, monitor='val_acc', \n",
        "                                                               save_best_only=True)]\n",
        "        history = model.fit_generator(self.get_batch(batch_size), \n",
        "                                      steps_per_epoch=train_steps, epochs=epochs, \n",
        "                                      validation_data=self.get_batch(batch_size, s='dev'),\n",
        "                                      validation_steps=validation_steps,\n",
        "                                      callbacks=callbacks)\n",
        "        return history\n",
        "      \n",
        "    def evaluate(self, model, batch_size=32):\n",
        "        steps = loader.data['test'].shape[0] // batch_size\n",
        "        history = model.evaluate_generator(self.get_batch(batch_size, s='test'), batch_size)\n",
        "        return history\n",
        "        \n",
        "    \n",
        "loader = Siamese_Loader(data_path)"
      ],
      "execution_count": 0,
      "outputs": [
        {
          "output_type": "stream",
          "text": [
            "loading data from /content/drive/My Drive/dupe_detection/train.npy\n",
            "loading data from /content/drive/My Drive/dupe_detection/dev.npy\n",
            "loading data from /content/drive/My Drive/dupe_detection/test.npy\n"
          ],
          "name": "stdout"
        }
      ]
    },
    {
      "cell_type": "markdown",
      "metadata": {
        "id": "9IPvWYm11MPS",
        "colab_type": "text"
      },
      "source": [
        "# Evaluation"
      ]
    },
    {
      "cell_type": "code",
      "metadata": {
        "id": "-JDVbWZ5R2CP",
        "colab_type": "code",
        "colab": {}
      },
      "source": [
        "def save_model(model):\n",
        "  model.save(model_path)"
      ],
      "execution_count": 0,
      "outputs": []
    },
    {
      "cell_type": "code",
      "metadata": {
        "id": "olXjGgtUlhVN",
        "colab_type": "code",
        "colab": {}
      },
      "source": [
        "def plot_history(history):\n",
        "  import matplotlib.pyplot as plt\n",
        "\n",
        "  # Plot training & validation accuracy values\n",
        "  plt.plot(history.history['acc'])\n",
        "  plt.plot(history.history['val_acc'])\n",
        "  plt.title('Model accuracy')\n",
        "  plt.ylabel('Accuracy')\n",
        "  plt.xlabel('Epoch')\n",
        "  plt.legend(['Train', 'Test'], loc='upper left')\n",
        "  plt.show()\n",
        "\n",
        "  # Plot training & validation loss values\n",
        "  plt.plot(history.history['loss'])\n",
        "  plt.plot(history.history['val_loss'])\n",
        "  plt.title('Model loss')\n",
        "  plt.ylabel('Loss')\n",
        "  plt.xlabel('Epoch')\n",
        "  plt.legend(['Train', 'Test'], loc='upper left')\n",
        "  plt.show()"
      ],
      "execution_count": 0,
      "outputs": []
    },
    {
      "cell_type": "code",
      "metadata": {
        "id": "7vdIaNNljxQm",
        "colab_type": "code",
        "colab": {}
      },
      "source": [
        "def evaluate(model, batch_size):\n",
        "  results = loader.evaluate(model, batch_size=batch_size)\n",
        "  print(\"Test results\")\n",
        "  print(\"--------------\")\n",
        "  print(list(zip(model.metrics_names, results)))"
      ],
      "execution_count": 0,
      "outputs": []
    },
    {
      "cell_type": "code",
      "metadata": {
        "id": "_541hplP1RSc",
        "colab_type": "code",
        "colab": {}
      },
      "source": [
        "def train_and_evaluate(model, batch_size=32, epochs=10):\n",
        "  print(\"Starting training process!\")\n",
        "  print(\"-------------------------------------\")\n",
        "  \n",
        "  t_start = time.time()\n",
        "  \n",
        "  history = loader.train(model, epochs, batch_size)\n",
        "  \n",
        "  print(\"Time for training: {0}\".format(time.time()-t_start))\n",
        "  \n",
        "  evaluate(model, batch_size)\n",
        "  \n",
        "  return history, model"
      ],
      "execution_count": 0,
      "outputs": []
    },
    {
      "cell_type": "code",
      "metadata": {
        "id": "GgU2FBL7R8Mn",
        "colab_type": "code",
        "colab": {}
      },
      "source": [
        "def load_saved_model(refresh=False):\n",
        "  \n",
        "  # check if entire model is saved\n",
        "  if not refresh and os.path.exists(model_path) and os.path.isfile(model_path):\n",
        "    custom_objects = {\n",
        "      'initialize_weights': CustomWeightsInitializer,\n",
        "      'initialize_bias': CustomBiasInitializer\n",
        "    }\n",
        "    print(\"loading saved model architecture and weights/biases\")\n",
        "    model = load_model(model_path, custom_objects=custom_objects)\n",
        "  else:\n",
        "    model = get_siamese_model(input_shape)\n",
        "    if not refresh and os.path.exists(model_weights_path) and os.path.isfile(model_weights_path):\n",
        "      print(\"loading saved model weights\")\n",
        "      model.load_weights(model_weights_path)\n",
        "    \n",
        "  return model"
      ],
      "execution_count": 0,
      "outputs": []
    },
    {
      "cell_type": "code",
      "metadata": {
        "id": "hFIP-javMPFG",
        "colab_type": "code",
        "colab": {}
      },
      "source": [
        "model = load_saved_model(refresh=True)\n",
        "history, model = train_and_evaluate(model, batch_size=64, epochs=500)\n",
        "plot_history(history)"
      ],
      "execution_count": 0,
      "outputs": []
    },
    {
      "cell_type": "code",
      "metadata": {
        "id": "iEoSBRhyyvvd",
        "colab_type": "code",
        "outputId": "e452d114-c32b-4706-d270-3ce0ba99aec6",
        "colab": {
          "base_uri": "https://localhost:8080/",
          "height": 139
        }
      },
      "source": [
        "model = load_saved_model()\n",
        "evaluate(model, batch_size=64)"
      ],
      "execution_count": 0,
      "outputs": [
        {
          "output_type": "stream",
          "text": [
            "loading saved model architecture and weights/biases\n"
          ],
          "name": "stdout"
        },
        {
          "output_type": "stream",
          "text": [
            "W0729 03:09:31.290206 140057118205824 deprecation_wrapper.py:119] From /usr/local/lib/python3.6/dist-packages/keras/backend/tensorflow_backend.py:174: The name tf.get_default_session is deprecated. Please use tf.compat.v1.get_default_session instead.\n",
            "\n"
          ],
          "name": "stderr"
        },
        {
          "output_type": "stream",
          "text": [
            "Test results\n",
            "--------------\n",
            "[('loss', 0.5546317840926349), ('acc', 0.9248046875)]\n"
          ],
          "name": "stdout"
        }
      ]
    }
  ]
}